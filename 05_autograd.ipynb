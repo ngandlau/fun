{
 "cells": [
  {
   "cell_type": "markdown",
   "metadata": {},
   "source": [
    "## A simple example using Pytorch's Autograd\n",
    "\n",
    "We have a function $f$ that takes in an observation $\\vec x$ and weights $\\vec w$ to compute our predicted value $f(\\vec w,\\vec x)$.\n",
    "\n",
    "We also have a target $y$. We want to tune the weights $\\vec w$ such that $f(w,x)\\approx y$ as close as possible.\n",
    "\n",
    "To calculate the \"closeness\" between our prediction and our target, we define a simple loss function:\n",
    "\n",
    "$$\n",
    "loss(\\vec w, \\vec x, y)=(f(\\vec w,\\vec x) - y)^2 = (\\vec w^T \\vec x - y)^2\n",
    "$$\n",
    "\n",
    "To tune the weights, we minimize the loss function w.r.t. the weights. We minimize the loss function by iteratively updating the weights using gradient descent. But this requires us to **compute the gradient of the loss function w.r.t. to our weights**."
   ]
  },
  {
   "cell_type": "code",
   "execution_count": 2,
   "metadata": {},
   "outputs": [],
   "source": [
    "import torch"
   ]
  },
  {
   "cell_type": "code",
   "execution_count": 8,
   "metadata": {},
   "outputs": [
    {
     "name": "stdout",
     "output_type": "stream",
     "text": [
      "tensor([ 0.8838, -0.9800], requires_grad=True)\n",
      "tensor([-11.0281, -33.0844])\n"
     ]
    }
   ],
   "source": [
    "# autograd example\n",
    "def f(x, w):\n",
    "    \"\"\"f(x,w)=w0*x0 + w1*x1\"\"\" \n",
    "    return w.T.dot(x)\n",
    "\n",
    "\n",
    "x = torch.Tensor([0.5, 1.5])\n",
    "y = 10\n",
    "\n",
    "w = torch.randn((2, ), requires_grad=True)\n",
    "print(w)\n",
    "\n",
    "# forward\n",
    "pred = w.T.dot(x)\n",
    "loss = (pred - y)**2\n",
    "\n",
    "# Use autograd to compute the backward pass. This call will compute the\n",
    "# gradient of loss with respect to all Tensors with requires_grad=True.\n",
    "# PyTorch will store the gradients in w.grad\n",
    "loss.backward()\n",
    "\n",
    "gradient_w = w.grad\n",
    "print(gradient_w)"
   ]
  },
  {
   "cell_type": "markdown",
   "metadata": {},
   "source": [
    "**Compute the gradient manually to check whether PyTorch does the right thing.**\n",
    "\n",
    "<img src=\"https://i.imgur.com/zpo409u.png\" style=\"width:550px\">"
   ]
  },
  {
   "cell_type": "code",
   "execution_count": 9,
   "metadata": {},
   "outputs": [
    {
     "data": {
      "text/plain": [
       "tensor([-11.0281, -33.0844])"
      ]
     },
     "execution_count": 9,
     "metadata": {},
     "output_type": "execute_result"
    }
   ],
   "source": [
    "def compute_gradient(w, x, y):\n",
    "    dfdw1 = 2*(w.T.dot(x)-y)*x[0]\n",
    "    dfdw2 = 2*(w.T.dot(x)-y)*x[1]\n",
    "    return torch.Tensor([dfdw1, dfdw2])\n",
    "\n",
    "compute_gradient(w, x, y)"
   ]
  },
  {
   "cell_type": "markdown",
   "metadata": {},
   "source": [
    "Yes! We get the same gradient as PyTorch using math."
   ]
  },
  {
   "cell_type": "code",
   "execution_count": 10,
   "metadata": {},
   "outputs": [
    {
     "name": "stdout",
     "output_type": "stream",
     "text": [
      "tensor([ 0.9941, -0.6492], grad_fn=<SubBackward0>)\n"
     ]
    }
   ],
   "source": [
    "# Using the computed gradient w.r.t. weights, \n",
    "# we can manually update the weights\n",
    "lr = 0.01\n",
    "w = w - lr*gradient_w\n",
    "print(w)"
   ]
  }
 ],
 "metadata": {
  "kernelspec": {
   "display_name": "Python 3",
   "language": "python",
   "name": "python3"
  },
  "language_info": {
   "codemirror_mode": {
    "name": "ipython",
    "version": 3
   },
   "file_extension": ".py",
   "mimetype": "text/x-python",
   "name": "python",
   "nbconvert_exporter": "python",
   "pygments_lexer": "ipython3",
   "version": "3.7.4"
  }
 },
 "nbformat": 4,
 "nbformat_minor": 2
}
