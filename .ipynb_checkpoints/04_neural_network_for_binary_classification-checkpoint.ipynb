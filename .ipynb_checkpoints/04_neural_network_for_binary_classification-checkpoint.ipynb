{
 "cells": [
  {
   "cell_type": "code",
   "execution_count": 12,
   "metadata": {},
   "outputs": [],
   "source": [
    "import numpy as np\n",
    "from matplotlib import pyplot as plt\n",
    "\n",
    "import torch\n",
    "import torchvision\n",
    "import torchvision.datasets"
   ]
  },
  {
   "cell_type": "code",
   "execution_count": 13,
   "metadata": {},
   "outputs": [
    {
     "data": {
      "text/plain": [
       "(torch.Size([50, 2]), torch.Size([50]))"
      ]
     },
     "execution_count": 13,
     "metadata": {},
     "output_type": "execute_result"
    }
   ],
   "source": [
    "# classification problem\n",
    "\n",
    "# class A comes from N([-1,-1], I)\n",
    "# class B comes from N([1, 1], I)\n",
    "mean_classA = np.array([-1 , -1])\n",
    "mean_classB = np.array([1 , 1])\n",
    "cov = 1*np.identity(n=2)\n",
    "\n",
    "# draw points from multivariate gaussian\n",
    "N = 50\n",
    "X_classA = np.random.multivariate_normal(mean_classA, cov, N//2)\n",
    "X_classB = np.random.multivariate_normal(mean_classB, cov, N//2)\n",
    "X = np.concatenate((X_classA, X_classB))\n",
    "\n",
    "y_classA = np.full((N//2, ), 1, dtype=np.bool_)\n",
    "y_classB = np.full((N//2, ), 0, dtype=np.bool_)\n",
    "y = np.concatenate((y_classA, y_classB))\n",
    "\n",
    "X = torch.tensor(X, dtype=torch.float32)\n",
    "y = torch.tensor(y, dtype=torch.float32)\n",
    "\n",
    "X.shape, y.shape"
   ]
  },
  {
   "cell_type": "code",
   "execution_count": 14,
   "metadata": {},
   "outputs": [
    {
     "data": {
      "image/png": "[encoded data removed]",
      "text/plain": [
       "<Figure size 432x288 with 1 Axes>"
      ]
     },
     "metadata": {
      "needs_background": "light"
     },
     "output_type": "display_data"
    }
   ],
   "source": [
    "plt.plot(X_classA[:, 0], X_classA[:, 1], \"bo\", label=\"class A\")\n",
    "plt.plot(X_classB[:, 0], X_classB[:, 1], \"rx\", label=\"class B\")\n",
    "plt.title(\"Observations of Class A and B\")\n",
    "plt.xlabel(\"x1\")\n",
    "plt.ylabel(\"x2\")\n",
    "plt.legend()\n",
    "plt.show()"
   ]
  },
  {
   "cell_type": "code",
   "execution_count": 15,
   "metadata": {},
   "outputs": [],
   "source": [
    "# solve the classification problem with pytorch \n",
    "import torch.nn as nn\n",
    "import torch.nn.functional as F\n",
    "import torch.optim\n",
    "\n",
    "class Net(nn.Module):\n",
    "    def __init__(self):\n",
    "        super(Net, self).__init__()\n",
    "        self.fc1 = nn.Linear(2, 1, bias=True) \n",
    "    \n",
    "    def forward(self, x):\n",
    "        x = self.fc1(x)\n",
    "        x = torch.sigmoid(x)\n",
    "        return x"
   ]
  },
  {
   "cell_type": "code",
   "execution_count": 16,
   "metadata": {},
   "outputs": [
    {
     "name": "stdout",
     "output_type": "stream",
     "text": [
      "torch.Size([1, 2]) torch.Size([1])\n"
     ]
    }
   ],
   "source": [
    "# run a single observation through the network\n",
    "net = Net()\n",
    "criterion = nn.BCELoss()\n",
    "optim = torch.optim.SGD(net.parameters(), lr=0.01)\n",
    "\n",
    "xx = X[0].reshape((1, -1))\n",
    "yy = y[0].reshape(-1)\n",
    "\n",
    "print(xx.shape, yy.shape)\n",
    "\n",
    "net.zero_grad()\n",
    "out = net(xx)\n",
    "out = out.reshape((-1, ))\n",
    "loss = criterion(out, yy)"
   ]
  },
  {
   "cell_type": "code",
   "execution_count": 17,
   "metadata": {},
   "outputs": [
    {
     "name": "stdout",
     "output_type": "stream",
     "text": [
      "Final Accuracy: 94.0%\n"
     ]
    },
    {
     "data": {
      "image/png": "[encoded data removed]",
      "text/plain": [
       "<Figure size 432x288 with 1 Axes>"
      ]
     },
     "metadata": {
      "needs_background": "light"
     },
     "output_type": "display_data"
    }
   ],
   "source": [
    "# training loop \n",
    "net = Net()\n",
    "criterion = nn.BCELoss()\n",
    "optim = torch.optim.SGD(net.parameters(), lr=0.1)\n",
    "\n",
    "EPOCHS = 100\n",
    "losses = []\n",
    "accuracies = []\n",
    "for i in range(EPOCHS):\n",
    "    net.zero_grad()\n",
    "    out = net(X)\n",
    "    out = out.reshape((-1, ))\n",
    "    \n",
    "    loss = criterion(out, y)\n",
    "    losses.append(loss)\n",
    "    \n",
    "    preds = out > 0.5\n",
    "    accuracy = np.sum(preds.detach().numpy() == y.numpy()) / X.shape[0]\n",
    "    accuracies.append(accuracy)\n",
    "    \n",
    "    loss.backward()\n",
    "    optim.step()\n",
    "\n",
    "\n",
    "print(f\"Final Accuracy: {accuracy*100}%\")\n",
    "\n",
    "plt.plot(losses, \"r-\", label=\"loss\")\n",
    "plt.plot(accuracies, \"g-\", label=\"accuracy\")\n",
    "plt.legend()\n",
    "plt.xlabel(\"Epoch\")\n",
    "plt.show()"
   ]
  },
  {
   "cell_type": "code",
   "execution_count": 18,
   "metadata": {},
   "outputs": [
    {
     "name": "stdout",
     "output_type": "stream",
     "text": [
      "fc1.weight tensor([[-1.3195, -1.1203]])\n",
      "fc1.bias tensor([-0.1986])\n"
     ]
    },
    {
     "data": {
      "text/plain": [
       "(tensor([-1.3195, -1.1203]), tensor([-0.1986]))"
      ]
     },
     "execution_count": 18,
     "metadata": {},
     "output_type": "execute_result"
    }
   ],
   "source": [
    "# print learnable parameters\n",
    "for name, param in net.named_parameters():\n",
    "    if param.requires_grad:\n",
    "        print(name, param.data)\n",
    "\n",
    "weights = [param.data for name, param in net.named_parameters() if \"weight\" in name][0].reshape(-1,)\n",
    "bias = [param.data for name, param in net.named_parameters() if \"bias\" in name][0]\n",
    "\n",
    "weights, bias"
   ]
  },
  {
   "cell_type": "code",
   "execution_count": 19,
   "metadata": {},
   "outputs": [
    {
     "data": {
      "image/png": "[encoded data removed]",
      "text/plain": [
       "<Figure size 432x288 with 1 Axes>"
      ]
     },
     "metadata": {
      "needs_background": "light"
     },
     "output_type": "display_data"
    }
   ],
   "source": [
    "# plot the learned decision boundary\n",
    "# TODO\n",
    "\n",
    "# yhat = b + w0*x_{i,1} + w1*x_{i,2}\n",
    "\n",
    "def decision_boundary(x1, bias, weights):\n",
    "    intercept = -bias/weights[1]\n",
    "    slope = -weights[0]/weights[1]\n",
    "    return intercept + slope*x1\n",
    "\n",
    "xx = np.linspace(-5, 5, 50)\n",
    "yy = decision_boundary(xx, bias, weights)\n",
    "\n",
    "plt.plot(X_classA[:, 0], X_classA[:, 1], \"bo\", label=\"class A\")\n",
    "plt.plot(X_classB[:, 0], X_classB[:, 1], \"rx\", label=\"class B\")\n",
    "plt.plot(xx, yy, \"g-\", label=\"Decision Boundary\")\n",
    "plt.xlabel(\"x1\")\n",
    "plt.ylabel(\"x2\")\n",
    "plt.legend(loc=\"upper left\")\n",
    "plt.show()"
   ]
  }
 ],
 "metadata": {
  "kernelspec": {
   "display_name": "Python 3",
   "language": "python",
   "name": "python3"
  },
  "language_info": {
   "codemirror_mode": {
    "name": "ipython",
    "version": 3
   },
   "file_extension": ".py",
   "mimetype": "text/x-python",
   "name": "python",
   "nbconvert_exporter": "python",
   "pygments_lexer": "ipython3",
   "version": "3.7.4"
  }
 },
 "nbformat": 4,
 "nbformat_minor": 2
}
