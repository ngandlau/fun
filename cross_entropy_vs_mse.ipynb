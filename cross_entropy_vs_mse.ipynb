{
 "cells": [
  {
   "cell_type": "markdown",
   "metadata": {},
   "source": [
    "## why cross-entropy loss is popular for training neural networks\n",
    "\n",
    "Cross-entropy loss can be used when the outputs of your network are between 0 and 1. For example, when you have a binary classification problem and you run the last layer's output through a *sigmoid layer*. Or when you have a multiclass classification problem and you run the last layer's output through a *softmax layer*.\n",
    "\n",
    "One advantage is that the cross-entropy loss function has some very nice properties that make neural networks learn efficiently. In particular, the cross-entropy loss explodes for observations where the predicted probabilities are very bad. For these observations, the *gradient* will be very large. Thus, in the update-step, you will make a very large step towards a better prediction. Thus you will learn faster.\n",
    "\n",
    "In this image you can see the cross-entropy loss of an individual observation that has a true label of 1. "
   ]
  },
  {
   "cell_type": "code",
   "execution_count": 107,
   "metadata": {},
   "outputs": [
    {
     "data": {
      "image/png": "[encoded data removed]",
      "text/plain": [
       "<Figure size 432x288 with 1 Axes>"
      ]
     },
     "metadata": {
      "needs_background": "light"
     },
     "output_type": "display_data"
    }
   ],
   "source": [
    "# cross-entropy loss when true label is y=1\n",
    "pred_probs = np.linspace(1e-6, 1, 50)\n",
    "cross_entropy_loss = -np.log(pred_probs)\n",
    "sq_errors = (1-pred_probs)**2\n",
    "\n",
    "plt.plot(pred_probs, cross_entropy_loss, \"r-\", label=\"cross-entropy loss\")\n",
    "plt.plot(pred_probs, sq_errors, \"g-\", label=\"squared error loss\")\n",
    "plt.legend()\n",
    "plt.title(\"Loss when true label is y=1\")\n",
    "plt.show()"
   ]
  },
  {
   "cell_type": "markdown",
   "metadata": {},
   "source": [
    "Note that the loss explodes when the model predicts a probability $\\approx 0$. In that scenario, the model is very *confident* about its prediction, even though it is wrong.\n",
    "\n",
    "Because the loss explodes for bad predictions, the slope/gradient will be very large, thus the update step will be very large.\n",
    "\n",
    "In contrast, for the squared error loss, very bad predictions are not punished as much. Thus the update-step will not be as large. Thus you will make slower progress towards better predictions.\n",
    "\n",
    "<img style=\"max-width:500px;\" src=\"https://i.imgur.com/E8FUSg7.png\"></img>\n"
   ]
  },
  {
   "cell_type": "markdown",
   "metadata": {},
   "source": [
    "## Hypothesis: A classifier network trained using Cross-Entropy Loss learns better than a network trained using MSE loss.\n",
    "\n",
    "To test this hypothesis, I train two networks that are identical, except for the loss functions used to train each network.\n",
    "\n",
    "* network 1 uses `CrossEntropyLoss`\n",
    "* network 2 uses `MSELoss`\n",
    "\n",
    "I test the hypothesis using **MNIST**."
   ]
  },
  {
   "cell_type": "code",
   "execution_count": 109,
   "metadata": {},
   "outputs": [],
   "source": [
    "import numpy as np\n",
    "from matplotlib import pyplot as plt\n",
    "import torch\n",
    "import torchvision\n",
    "import torchvision.datasets\n",
    "\n",
    "import torch.nn as nn\n",
    "import torch.optim\n",
    "\n",
    "from tqdm import trange"
   ]
  },
  {
   "cell_type": "code",
   "execution_count": 110,
   "metadata": {},
   "outputs": [
    {
     "data": {
      "text/plain": [
       "(torch.Size([60000, 28, 28]), torch.Size([60000]))"
      ]
     },
     "execution_count": 110,
     "metadata": {},
     "output_type": "execute_result"
    }
   ],
   "source": [
    "data_train = torchvision.datasets.MNIST( \n",
    "    root=\"./mnist_data\",\n",
    "    train=True,\n",
    "    transform=torchvision.transforms.ToTensor()\n",
    "    # download=True <-- if you don't have MNIST on disk\n",
    ") \n",
    "\n",
    "data_test = torchvision.datasets.MNIST(\n",
    "    root=\"./mnist_data\",\n",
    "    train=False,\n",
    "    transform=torchvision.transforms.ToTensor()\n",
    "    # download=True <-- if you don't have MNIST on disk\n",
    ")\n",
    "\n",
    "X_train, y_train = data_train.data, data_train.targets\n",
    "# X_train, y_train = data_train.data.numpy(), data_train.targets.numpy()\n",
    "\n",
    "# normalize X_train to [0, 1]\n",
    "X_train = X_train / 255.0\n",
    "\n",
    "X_train.shape, y_train.shape"
   ]
  },
  {
   "cell_type": "code",
   "execution_count": 111,
   "metadata": {},
   "outputs": [],
   "source": [
    "class Net(nn.Module):\n",
    "    def __init__(self):\n",
    "        super(Net, self).__init__()\n",
    "        self.model = nn.Sequential(\n",
    "            nn.Linear(28*28, 128),\n",
    "            nn.ReLU(),\n",
    "            nn.Linear(128, 10)\n",
    "        )\n",
    "        \n",
    "    def forward(self, x):\n",
    "        \"\"\"\n",
    "        Args:\n",
    "            x: torch.array shaped (batch_size, height, width)\n",
    "            \n",
    "        Returns:\n",
    "            torch.array shaped (batch_size, n_classes) of unnormalized scores (not probabilities)\n",
    "        \"\"\"\n",
    "        scores = self.model(x)\n",
    "        return scores"
   ]
  },
  {
   "cell_type": "code",
   "execution_count": 116,
   "metadata": {},
   "outputs": [
    {
     "name": "stdout",
     "output_type": "stream",
     "text": [
      "tensor([[-0.0599, -0.0067,  0.0696, -0.0077, -0.0799,  0.0152,  0.0754,  0.0909,\n",
      "         -0.0234,  0.0373]], grad_fn=<AddmmBackward>)\n",
      "tensor([[0.0930, 0.0981, 0.1059, 0.0980, 0.0912, 0.1003, 0.1065, 0.1081, 0.0965,\n",
      "         0.1025]], grad_fn=<SoftmaxBackward>)\n"
     ]
    }
   ],
   "source": [
    "# Example output of the network\n",
    "BS = 1\n",
    "X = X_train[:BS].reshape((BS, -1))\n",
    "y = y_train[:BS]\n",
    "\n",
    "net = Net()\n",
    "scores = net(X)\n",
    "probs = nn.functional.softmax(scores, dim=1)\n",
    "\n",
    "print(scores)\n",
    "print(probs)"
   ]
  },
  {
   "cell_type": "code",
   "execution_count": 120,
   "metadata": {},
   "outputs": [
    {
     "name": "stdout",
     "output_type": "stream",
     "text": [
      "tensor([2.3774, 2.1471, 2.3739], grad_fn=<NegBackward>)\n",
      "tensor([2.3774, 2.1471, 2.3739], grad_fn=<NllLossBackward>)\n"
     ]
    }
   ],
   "source": [
    "# Check if I correctly understood CrossEntropyLoss by calculating it\n",
    "# (1) manually, and (2) using pytorch\n",
    "\n",
    "BS = 3\n",
    "X = X_train[:BS].reshape((BS, -1))\n",
    "y = y_train[:BS]\n",
    "\n",
    "net = Net()\n",
    "\n",
    "# cross-entropy loss calculated manually\n",
    "scores = net(X)\n",
    "probs = nn.functional.softmax(scores, dim=1)\n",
    "prob_true_class = probs[np.arange(probs.shape[0]), y]\n",
    "loss_manual = -torch.log(prob_true_class)\n",
    "\n",
    "# cross-entropy loss calculated manually\n",
    "criterionCE = nn.CrossEntropyLoss(reduction=\"none\")\n",
    "loss_CE = criterionCE(scores, y) \n",
    "# CrossEntropyLoss combines softmax+CrossEntropy, thus you don't need to \n",
    "# run the scores through a softmax, before they enter the loss function.\n",
    "\n",
    "print(loss_manual)\n",
    "print(loss_CE)"
   ]
  },
  {
   "cell_type": "code",
   "execution_count": 122,
   "metadata": {},
   "outputs": [],
   "source": [
    "data_train = torchvision.datasets.MNIST(\n",
    "    root=\"./mnist_data\",\n",
    "    train=True,\n",
    "    transform=torchvision.transforms.ToTensor()\n",
    "    # download=True <-- if you don't have MNIST on disk\n",
    ") \n",
    "\n",
    "data_test = torchvision.datasets.MNIST(\n",
    "    root=\"./mnist_data\",\n",
    "    train=False,\n",
    "    transform=torchvision.transforms.ToTensor()\n",
    "    # download=True <-- if you don't have MNIST on disk\n",
    ")\n",
    "\n",
    "train_loader = torch.utils.data.DataLoader(dataset=data_train, batch_size=32)"
   ]
  },
  {
   "cell_type": "code",
   "execution_count": 74,
   "metadata": {},
   "outputs": [
    {
     "name": "stderr",
     "output_type": "stream",
     "text": [
      "\n",
      "  0%|                                                                                           | 0/10 [00:00<?, ?it/s]\n",
      " 10%|████████▎                                                                          | 1/10 [00:13<02:00, 13.38s/it]\n",
      " 20%|████████████████▌                                                                  | 2/10 [00:25<01:42, 12.86s/it]\n",
      " 30%|████████████████████████▉                                                          | 3/10 [00:36<01:28, 12.59s/it]\n",
      " 40%|█████████████████████████████████▏                                                 | 4/10 [00:49<01:14, 12.44s/it]\n",
      " 50%|█████████████████████████████████████████▌                                         | 5/10 [01:06<01:10, 14.05s/it]\n",
      " 60%|█████████████████████████████████████████████████▊                                 | 6/10 [01:23<00:59, 14.84s/it]\n",
      " 70%|██████████████████████████████████████████████████████████                         | 7/10 [01:37<00:43, 14.42s/it]\n",
      " 80%|██████████████████████████████████████████████████████████████████▍                | 8/10 [01:51<00:29, 14.58s/it]\n",
      " 90%|██████████████████████████████████████████████████████████████████████████▋        | 9/10 [02:06<00:14, 14.70s/it]\n",
      "100%|██████████████████████████████████████████████████████████████████████████████████| 10/10 [02:21<00:00, 14.18s/it]\n"
     ]
    }
   ],
   "source": [
    "LEARN_RATE = 0.1\n",
    "EPOCHS = 10\n",
    "\n",
    "# init network with cross-entropy loss\n",
    "net1 = Net()\n",
    "crit1 = nn.CrossEntropyLoss()\n",
    "optim1 = torch.optim.SGD(net1.parameters(), lr = LEARN_RATE)\n",
    "\n",
    "# init network with mse loss\n",
    "net2 = Net()\n",
    "crit2 = nn.MSELoss()\n",
    "optim2 = torch.optim.SGD(net2.parameters(), lr = LEARN_RATE)\n",
    "\n",
    "#TODO: weight initialization\n",
    "# https://stackoverflow.com/questions/49433936/how-to-initialize-weights-in-pytorch\n",
    "\n",
    "# training\n",
    "losses1 = []\n",
    "losses2 = []\n",
    "accuracies1 = []\n",
    "accuracies2 = []\n",
    "for i in trange(EPOCHS):\n",
    "    acc_minibatches1 = []\n",
    "    acc_minibatches2 = []\n",
    "    for batch_id, (X, y) in enumerate(train_loader):\n",
    "        batch_size, n_channels, h, w = X.shape\n",
    "        \n",
    "        # remove dimension for color channels, since our images are grayscale\n",
    "        # from: [batch_size, n_channels, height, width]\n",
    "        # to:   [batch_size, height, width]\n",
    "        X = X.reshape((batch_size, h, w))\n",
    "        X = X.reshape((batch_size, -1))\n",
    "        \n",
    "        net1.zero_grad()\n",
    "        net2.zero_grad()\n",
    "        \n",
    "        scores1 = net1(X)\n",
    "        scores2 = net2(X)\n",
    "        \n",
    "        probs1 = nn.functional.softmax(scores1, dim=1)\n",
    "        probs2 = nn.functional.softmax(scores2, dim=1)\n",
    "        prob_of_target = probs2[torch.arange(batch_size), y]\n",
    "        \n",
    "        loss1 = crit1(scores1, y) # CrossEntropyLoss has inbuilt softmax\n",
    "        loss2 = crit2(prob_of_target, y.to(torch.float32))\n",
    "        \n",
    "        loss1.backward()\n",
    "        loss2.backward()\n",
    "        \n",
    "        optim1.step()\n",
    "        optim2.step()\n",
    "        \n",
    "        pred_labels1 = torch.argmax(probs1, dim=1)\n",
    "        pred_labels2 = torch.argmax(probs2, dim=1)\n",
    "        \n",
    "        accuracy1 = float(torch.sum(pred_labels1 == y)) / batch_size\n",
    "        accuracy2 = float(torch.sum(pred_labels2 == y)) / batch_size\n",
    "        \n",
    "        losses1.append(loss1)\n",
    "        losses2.append(loss2)\n",
    "        \n",
    "        acc_minibatches1.append(accuracy1)\n",
    "        acc_minibatches2.append(accuracy2)\n",
    "    \n",
    "    # avg accuracy per epoch\n",
    "    accuracies1.append(np.mean(acc_minibatches1))\n",
    "    accuracies2.append(np.mean(acc_minibatches2))\n"
   ]
  },
  {
   "cell_type": "code",
   "execution_count": 75,
   "metadata": {},
   "outputs": [
    {
     "data": {
      "image/png": "[encoded data removed]",
      "text/plain": [
       "<Figure size 432x288 with 1 Axes>"
      ]
     },
     "metadata": {
      "needs_background": "light"
     },
     "output_type": "display_data"
    }
   ],
   "source": [
    "# plt.plot(losses1, \"r-\", label=\"Loss_CE\")\n",
    "# plt.plot(losses2, \"g-\", label=\"Loss_MSE\")\n",
    "plt.plot(accuracies1, \"o-\", label=\"Acc_CE\")\n",
    "plt.plot(accuracies2, \"y-\", label=\"Acc_MSE\")\n",
    "plt.legend()\n",
    "plt.show()"
   ]
  },
  {
   "cell_type": "code",
   "execution_count": 123,
   "metadata": {},
   "outputs": [
    {
     "name": "stdout",
     "output_type": "stream",
     "text": [
      "Final Accuracies:\n",
      "Network with CrossEntropyLoss: Train Loss=99.18%\n",
      "Network with MSE Loss: Train Loss=68.795%\n"
     ]
    }
   ],
   "source": [
    "print(\"Final Accuracies:\")\n",
    "print(f\"Network with CrossEntropyLoss: Train Loss={accuracies1[-1]*100}%\")\n",
    "print(f\"Network with MSE Loss: Train Loss={accuracies2[-1]*100}%\")"
   ]
  },
  {
   "cell_type": "markdown",
   "metadata": {},
   "source": [
    "=> Network trained using CrossEntropyLoss trained better..."
   ]
  }
 ],
 "metadata": {
  "kernelspec": {
   "display_name": "Python 3",
   "language": "python",
   "name": "python3"
  },
  "language_info": {
   "codemirror_mode": {
    "name": "ipython",
    "version": 3
   },
   "file_extension": ".py",
   "mimetype": "text/x-python",
   "name": "python",
   "nbconvert_exporter": "python",
   "pygments_lexer": "ipython3",
   "version": "3.7.4"
  }
 },
 "nbformat": 4,
 "nbformat_minor": 2
}
